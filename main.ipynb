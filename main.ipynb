{
 "cells": [
  {
   "cell_type": "markdown",
   "metadata": {},
   "source": [
    "This is a demo of git-merging Jupyter Notebooks with `nbdime`.\n",
    "\n",
    "Initial commit only has this markdown cell.\n",
    "\n",
    "Development further diverges into \"alice\" and \"bob\" branches, reflecting parallel development of independent features. Each branch adds a single markdown cell. After that, branches must be merged.\n",
    "\n",
    "Merged notebook should have 3 markdown cells.\n",
    "\n",
    "1. This cell from \"master\" (base).\n",
    "2. Second cell from \"alice\".\n",
    "3. Third cell from \"bob\"."
   ]
  }
 ],
 "metadata": {
  "kernelspec": {
   "display_name": "Python 3",
   "language": "python",
   "name": "python3"
  },
  "language_info": {
   "codemirror_mode": {
    "name": "ipython",
    "version": 3
   },
   "file_extension": ".py",
   "mimetype": "text/x-python",
   "name": "python",
   "nbconvert_exporter": "python",
   "pygments_lexer": "ipython3",
   "version": "3.6.4"
  }
 },
 "nbformat": 4,
 "nbformat_minor": 2
}
